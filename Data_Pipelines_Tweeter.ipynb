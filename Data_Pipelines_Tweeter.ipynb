{
 "cells": [
  {
   "cell_type": "markdown",
   "id": "5aa57d94-b8f3-48fa-a863-d999dde2cfc8",
   "metadata": {},
   "source": [
    "### Twitter API's bearer_token is required"
   ]
  },
  {
   "cell_type": "code",
   "execution_count": 265,
   "id": "f988027f-393b-436e-8dfa-da55bb8c9b78",
   "metadata": {},
   "outputs": [],
   "source": [
    "# Provide your bearer_token, or create a Python file containing it and import\n",
    "brearer_token = ''\n",
    "from twitter_authentication import bearer_token"
   ]
  },
  {
   "cell_type": "markdown",
   "id": "de755157-8dd7-453f-bc32-197f46d6d581",
   "metadata": {},
   "source": [
    "### Connect to API"
   ]
  },
  {
   "cell_type": "code",
   "execution_count": 264,
   "id": "6c4de0fa-cdbc-4005-b7bd-9394fa72d303",
   "metadata": {},
   "outputs": [],
   "source": [
    "import os\n",
    "import tweepy as tw\n",
    "import pandas as pd\n",
    "from tqdm import tqdm, notebook"
   ]
  },
  {
   "cell_type": "code",
   "execution_count": 257,
   "id": "2629a94d-feb8-47e4-b8cc-ec05a0ec684d",
   "metadata": {},
   "outputs": [],
   "source": [
    "client = tw.Client(bearer_token, wait_on_rate_limit=True)"
   ]
  },
  {
   "cell_type": "markdown",
   "id": "b5c23002-c463-4683-9c48-8189088cd62a",
   "metadata": {},
   "source": [
    "### Get Tweets\n",
    "\n",
    "By default the only information returned is the tweet ID and the text. Often, we will want information about authors, too. To get information about the author, you need to add the user_fields parameter with the fields you want as well as the expansions = 'author_id' parameter.\n",
    "\n",
    "To get more information about the tweet, you need the tweet_fields parameter. The options are shown at https://developer.twitter.com/en/docs/twitter-api/tweets/search/api-reference/get-tweets-search-all\n",
    "\n",
    "You also likely want to build a somewhat advanced query - instructions are at https://developer.twitter.com/en/docs/twitter-api/tweets/search/integrate/build-a-query. For this query, I get English language tweets that are not retweets."
   ]
  },
  {
   "cell_type": "code",
   "execution_count": 258,
   "id": "683b9deb-2207-45a6-9a00-ba83852e120f",
   "metadata": {},
   "outputs": [],
   "source": [
    "# get recent matching tweets according to the query\n",
    "tweets = client.search_recent_tweets(query='#vaccine', \n",
    "                                     max_results=100,\n",
    "                                     user_fields = ['username', 'public_metrics', 'description', 'location'],\n",
    "                                     tweet_fields = ['created_at', 'geo', 'public_metrics', 'text'],\n",
    "                                     expansions = 'author_id',\n",
    "                                     start_time = '2021-11-20T00:00:00Z',\n",
    "                                     end_time = '2021-11-21T00:00:00Z')"
   ]
  },
  {
   "cell_type": "markdown",
   "id": "3f2b5f7f-7a24-4027-b716-6e27c163bbdd",
   "metadata": {},
   "source": [
    "Breakdown of data structure (Nov.24 2021 As tweepy gets updated oftenly, this might change in the future):\n",
    "1. uses dir(object) to check directly on the commands possible for special data structure.\n",
    "2. tweets.data[i]['text'] returns the tweet text of the ith tweet."
   ]
  },
  {
   "cell_type": "code",
   "execution_count": 259,
   "id": "5a8503fc-ea3c-4733-aa98-2eec91140a7a",
   "metadata": {
    "collapsed": true,
    "jupyter": {
     "outputs_hidden": true
    },
    "tags": []
   },
   "outputs": [
    {
     "name": "stdout",
     "output_type": "stream",
     "text": [
      "<class 'tweepy.client.Response'> ['count', 'data', 'errors', 'includes', 'index', 'meta']\n",
      "<class 'list'> <class 'tweepy.tweet.Tweet'> ['attachments', 'author_id', 'context_annotations', 'conversation_id', 'created_at', 'data', 'entities', 'geo', 'get', 'id', 'in_reply_to_user_id', 'items', 'keys', 'lang', 'non_public_metrics', 'organic_metrics', 'possibly_sensitive', 'promoted_metrics', 'public_metrics', 'referenced_tweets', 'reply_settings', 'source', 'text', 'values', 'withheld']\n",
      "<class 'str'>\n"
     ]
    }
   ],
   "source": [
    "print(type(tweets), [item for item in dir(tweets) if not item.startswith('_')])\n",
    "print(type(tweets.data), type(tweets.data[0]),[item for item in dir(tweets.data[0]) if not item.startswith('_')])\n",
    "print(type(tweets.data[0]['text']))"
   ]
  },
  {
   "cell_type": "markdown",
   "id": "541b51d5-adf4-4887-aee4-7f7d370ee6bf",
   "metadata": {},
   "source": [
    "### Convert Tweepy data structure to Pandas DataFrame\n",
    "1. We got here two seperated data structures, one for tweets and one for users, joint key-value connection is the 'user_id'.\n",
    "2. We create a dictionary which allow us to locate the user with the user_id, and generate a Pandas DataFrame. "
   ]
  },
  {
   "cell_type": "code",
   "execution_count": 260,
   "id": "f0890a28-677e-4ba0-8b0f-4a465736687d",
   "metadata": {},
   "outputs": [],
   "source": [
    "result = []\n",
    "\n",
    "# we firstly map each user_id to an index which allows us to locate the user\n",
    "users = tweets.includes['users']\n",
    "user_dict = {}\n",
    "for i, user in enumerate(users):\n",
    "    user_dict[user.id] = i\n",
    "    \n",
    "# then we collect all tweets info\n",
    "for tweet in tweets.data:\n",
    "    # for each tweet, find the author\n",
    "    user_index = user_dict[tweet.author_id]\n",
    "    user = users[user_index]\n",
    "    tweet_dict = { 'author_id': tweet.author_id, \n",
    "                   'username': user.username,\n",
    "                   'author_followers': user.public_metrics['followers_count'],\n",
    "                   'author_tweets': user.public_metrics['tweet_count'],\n",
    "                   'author_description': user.description,\n",
    "                   'author_location': user.location,\n",
    "                   'text': tweet.text,\n",
    "                   'created_at': tweet.created_at,\n",
    "                   'retweets': tweet.public_metrics['retweet_count'],\n",
    "                   'replies': tweet.public_metrics['reply_count'],\n",
    "                   'likes': tweet.public_metrics['like_count'],\n",
    "                   'quote_count': tweet.public_metrics['quote_count']}\n",
    "    # append current tweet's dictionary to the result list\n",
    "    result.append(tweet_dict)\n",
    "    \n",
    "df_tweet = pd.DataFrame(result)"
   ]
  },
  {
   "cell_type": "code",
   "execution_count": 261,
   "id": "fde467ea-c5e1-4377-952d-a101ae2cfd05",
   "metadata": {},
   "outputs": [
    {
     "data": {
      "text/html": [
       "<div>\n",
       "<style scoped>\n",
       "    .dataframe tbody tr th:only-of-type {\n",
       "        vertical-align: middle;\n",
       "    }\n",
       "\n",
       "    .dataframe tbody tr th {\n",
       "        vertical-align: top;\n",
       "    }\n",
       "\n",
       "    .dataframe thead th {\n",
       "        text-align: right;\n",
       "    }\n",
       "</style>\n",
       "<table border=\"1\" class=\"dataframe\">\n",
       "  <thead>\n",
       "    <tr style=\"text-align: right;\">\n",
       "      <th></th>\n",
       "      <th>author_id</th>\n",
       "      <th>username</th>\n",
       "      <th>author_followers</th>\n",
       "      <th>author_tweets</th>\n",
       "      <th>author_description</th>\n",
       "      <th>author_location</th>\n",
       "      <th>text</th>\n",
       "      <th>created_at</th>\n",
       "      <th>retweets</th>\n",
       "      <th>replies</th>\n",
       "      <th>likes</th>\n",
       "      <th>quote_count</th>\n",
       "    </tr>\n",
       "  </thead>\n",
       "  <tbody>\n",
       "    <tr>\n",
       "      <th>0</th>\n",
       "      <td>1444850387698262017</td>\n",
       "      <td>American_Alley2</td>\n",
       "      <td>9968</td>\n",
       "      <td>38582</td>\n",
       "      <td>PRO-TRUMP, #2A Love God &amp; support those in Uniform and stand for the Flag Married NO LIST No DM! #BACKTHEBLUE #FightForTrump #FightLikeAFlynn</td>\n",
       "      <td>Ohio</td>\n",
       "      <td>RT @kernaghanscott5: This chart from WHO says all we need to know.👇\\n\\nMore vaccines, more deaths.\\n\\nIFB ALL Patriots! @kernaghanscott5 🇺🇸\\n\\n#W…</td>\n",
       "      <td>2021-11-20 23:59:20+00:00</td>\n",
       "      <td>220</td>\n",
       "      <td>0</td>\n",
       "      <td>0</td>\n",
       "      <td>0</td>\n",
       "    </tr>\n",
       "    <tr>\n",
       "      <th>1</th>\n",
       "      <td>1242841869777883139</td>\n",
       "      <td>WakeUpFrance31</td>\n",
       "      <td>301</td>\n",
       "      <td>86650</td>\n",
       "      <td></td>\n",
       "      <td>None</td>\n",
       "      <td>RT @Cheikh_Redac: Révolte anti-vax en #Guadeloupe  : le Président enfonce #Macron : “j’ai prévenu Paris, mais j’ai reçu du mépris” https://…</td>\n",
       "      <td>2021-11-20 23:59:17+00:00</td>\n",
       "      <td>214</td>\n",
       "      <td>0</td>\n",
       "      <td>0</td>\n",
       "      <td>0</td>\n",
       "    </tr>\n",
       "    <tr>\n",
       "      <th>2</th>\n",
       "      <td>3331732167</td>\n",
       "      <td>jessicakardos</td>\n",
       "      <td>445</td>\n",
       "      <td>2648</td>\n",
       "      <td>Voice Actor and busy mom of 2. You may know me as Sue Ellen on Arthur, Jen Larkin on What's with Andy? and Cameron on the Belle and Sebastian reboot!</td>\n",
       "      <td>Montreal</td>\n",
       "      <td>#COVID19 sucks. Day 4 post symptoms onset. Thank goodness for the #vaccine https://t.co/qYOzHRrio1</td>\n",
       "      <td>2021-11-20 23:59:08+00:00</td>\n",
       "      <td>0</td>\n",
       "      <td>2</td>\n",
       "      <td>2</td>\n",
       "      <td>0</td>\n",
       "    </tr>\n",
       "    <tr>\n",
       "      <th>3</th>\n",
       "      <td>1378116838954041353</td>\n",
       "      <td>TheLid14</td>\n",
       "      <td>37</td>\n",
       "      <td>4698</td>\n",
       "      <td>Love God, my family, and my country.</td>\n",
       "      <td>None</td>\n",
       "      <td>RT @EpochTimes: An Olathe, #Kansas, mother sued @Walmart for allegedly giving a #Vaccine against #COVID19 to her 15-year-old daughter witho…</td>\n",
       "      <td>2021-11-20 23:59:07+00:00</td>\n",
       "      <td>63</td>\n",
       "      <td>0</td>\n",
       "      <td>0</td>\n",
       "      <td>0</td>\n",
       "    </tr>\n",
       "    <tr>\n",
       "      <th>4</th>\n",
       "      <td>825540792882065408</td>\n",
       "      <td>anotherAKGorman</td>\n",
       "      <td>261</td>\n",
       "      <td>126693</td>\n",
       "      <td>Artist. Feminist. Warren Democrat.</td>\n",
       "      <td>None</td>\n",
       "      <td>RT @tmprowell: More than 2/3 of fully #vaccinated 🇺🇸 adults are 6+ mos since their last dose of #COVID19 #vaccine. On the left is why that…</td>\n",
       "      <td>2021-11-20 23:59:03+00:00</td>\n",
       "      <td>6</td>\n",
       "      <td>0</td>\n",
       "      <td>0</td>\n",
       "      <td>0</td>\n",
       "    </tr>\n",
       "  </tbody>\n",
       "</table>\n",
       "</div>"
      ],
      "text/plain": [
       "             author_id         username  author_followers  author_tweets  \\\n",
       "0  1444850387698262017  American_Alley2              9968          38582   \n",
       "1  1242841869777883139   WakeUpFrance31               301          86650   \n",
       "2           3331732167    jessicakardos               445           2648   \n",
       "3  1378116838954041353         TheLid14                37           4698   \n",
       "4   825540792882065408  anotherAKGorman               261         126693   \n",
       "\n",
       "                                                                                                                                      author_description  \\\n",
       "0          PRO-TRUMP, #2A Love God & support those in Uniform and stand for the Flag Married NO LIST No DM! #BACKTHEBLUE #FightForTrump #FightLikeAFlynn   \n",
       "1                                                                                                                                                          \n",
       "2  Voice Actor and busy mom of 2. You may know me as Sue Ellen on Arthur, Jen Larkin on What's with Andy? and Cameron on the Belle and Sebastian reboot!   \n",
       "3                                                                                                                   Love God, my family, and my country.   \n",
       "4                                                                                                                     Artist. Feminist. Warren Democrat.   \n",
       "\n",
       "  author_location  \\\n",
       "0            Ohio   \n",
       "1            None   \n",
       "2        Montreal   \n",
       "3            None   \n",
       "4            None   \n",
       "\n",
       "                                                                                                                                                 text  \\\n",
       "0  RT @kernaghanscott5: This chart from WHO says all we need to know.👇\\n\\nMore vaccines, more deaths.\\n\\nIFB ALL Patriots! @kernaghanscott5 🇺🇸\\n\\n#W…   \n",
       "1        RT @Cheikh_Redac: Révolte anti-vax en #Guadeloupe  : le Président enfonce #Macron : “j’ai prévenu Paris, mais j’ai reçu du mépris” https://…   \n",
       "2                                                  #COVID19 sucks. Day 4 post symptoms onset. Thank goodness for the #vaccine https://t.co/qYOzHRrio1   \n",
       "3        RT @EpochTimes: An Olathe, #Kansas, mother sued @Walmart for allegedly giving a #Vaccine against #COVID19 to her 15-year-old daughter witho…   \n",
       "4         RT @tmprowell: More than 2/3 of fully #vaccinated 🇺🇸 adults are 6+ mos since their last dose of #COVID19 #vaccine. On the left is why that…   \n",
       "\n",
       "                 created_at  retweets  replies  likes  quote_count  \n",
       "0 2021-11-20 23:59:20+00:00       220        0      0            0  \n",
       "1 2021-11-20 23:59:17+00:00       214        0      0            0  \n",
       "2 2021-11-20 23:59:08+00:00         0        2      2            0  \n",
       "3 2021-11-20 23:59:07+00:00        63        0      0            0  \n",
       "4 2021-11-20 23:59:03+00:00         6        0      0            0  "
      ]
     },
     "execution_count": 261,
     "metadata": {},
     "output_type": "execute_result"
    }
   ],
   "source": [
    "df_tweet.head()"
   ]
  },
  {
   "cell_type": "markdown",
   "id": "5875e7f7-0715-4554-9027-a9be50230c58",
   "metadata": {},
   "source": [
    "### Pipeline output: Write the resulting Dataframe to a CSV file."
   ]
  },
  {
   "cell_type": "code",
   "execution_count": 252,
   "id": "9444c864-55e0-4b19-8b50-752e74f81fc9",
   "metadata": {},
   "outputs": [],
   "source": [
    "df_tweet.to_csv('vaccine_tweet.csv') "
   ]
  }
 ],
 "metadata": {
  "kernelspec": {
   "display_name": "Python 3 (ipykernel)",
   "language": "python",
   "name": "python3"
  },
  "language_info": {
   "codemirror_mode": {
    "name": "ipython",
    "version": 3
   },
   "file_extension": ".py",
   "mimetype": "text/x-python",
   "name": "python",
   "nbconvert_exporter": "python",
   "pygments_lexer": "ipython3",
   "version": "3.7.11"
  }
 },
 "nbformat": 4,
 "nbformat_minor": 5
}
