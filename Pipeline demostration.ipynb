{
 "cells": [
  {
   "cell_type": "code",
   "execution_count": 1,
   "id": "b136404e-ded8-4755-801c-917c6436c45c",
   "metadata": {},
   "outputs": [],
   "source": [
    "# Provide your bearer_token, or create a Python file containing it and import\n",
    "brearer_token = ''\n",
    "from twitter_authentication import bearer_token"
   ]
  },
  {
   "cell_type": "code",
   "execution_count": 4,
   "id": "0db65816-2330-4cb3-b972-75bedbef2b5f",
   "metadata": {},
   "outputs": [],
   "source": [
    "import os\n",
    "import tweepy as tw\n",
    "import pandas as pd\n",
    "from tqdm import tqdm, notebook\n",
    "import os"
   ]
  },
  {
   "cell_type": "code",
   "execution_count": 5,
   "id": "dd51d824-c957-479d-bc68-8f33f63a6ec9",
   "metadata": {},
   "outputs": [],
   "source": [
    "client = tw.Client(bearer_token, wait_on_rate_limit=True)"
   ]
  },
  {
   "cell_type": "code",
   "execution_count": 2,
   "id": "96963b18-8b01-4e79-8f83-0298596200a5",
   "metadata": {},
   "outputs": [],
   "source": [
    "from tweet_pipeline import searchtweets_wirte"
   ]
  },
  {
   "cell_type": "code",
   "execution_count": 8,
   "id": "45a92f4c-4cc1-4223-a781-b433cc96404b",
   "metadata": {},
   "outputs": [
    {
     "name": "stdout",
     "output_type": "stream",
     "text": [
      "Pipeline Completed\n"
     ]
    }
   ],
   "source": [
    "query='#vaccine'\n",
    "start_time = '2021-11-20T00:00:00Z'\n",
    "end_time = '2021-11-22T00:00:00Z'\n",
    "file_name = 'vaccine_tweet.csv'\n",
    "\n",
    "searchtweets_wirte(query, start_time, end_time, file_name, client)"
   ]
  },
  {
   "cell_type": "code",
   "execution_count": 10,
   "id": "43bdc761-615d-408a-b35f-dc273b8ac3a1",
   "metadata": {},
   "outputs": [],
   "source": [
    "df = pd.read_csv(file_name)"
   ]
  },
  {
   "cell_type": "code",
   "execution_count": 11,
   "id": "f7708075-5067-46fc-80b8-e0da0deffd35",
   "metadata": {},
   "outputs": [
    {
     "name": "stdout",
     "output_type": "stream",
     "text": [
      "<class 'pandas.core.frame.DataFrame'>\n",
      "RangeIndex: 5017 entries, 0 to 5016\n",
      "Data columns (total 12 columns):\n",
      " #   Column              Non-Null Count  Dtype \n",
      "---  ------              --------------  ----- \n",
      " 0   author_id           5017 non-null   object\n",
      " 1   username            5017 non-null   object\n",
      " 2   author_followers    5017 non-null   object\n",
      " 3   author_tweets       5017 non-null   object\n",
      " 4   author_description  4124 non-null   object\n",
      " 5   author_location     3173 non-null   object\n",
      " 6   text                5017 non-null   object\n",
      " 7   created_at          5017 non-null   object\n",
      " 8   retweets            5017 non-null   object\n",
      " 9   replies             5017 non-null   object\n",
      " 10  likes               5017 non-null   object\n",
      " 11  quote_count         5017 non-null   object\n",
      "dtypes: object(12)\n",
      "memory usage: 470.5+ KB\n"
     ]
    }
   ],
   "source": [
    "df.info()"
   ]
  },
  {
   "cell_type": "code",
   "execution_count": 13,
   "id": "53d43d65-29c8-4ef2-8381-501b08bb994d",
   "metadata": {},
   "outputs": [
    {
     "data": {
      "text/html": [
       "<div>\n",
       "<style scoped>\n",
       "    .dataframe tbody tr th:only-of-type {\n",
       "        vertical-align: middle;\n",
       "    }\n",
       "\n",
       "    .dataframe tbody tr th {\n",
       "        vertical-align: top;\n",
       "    }\n",
       "\n",
       "    .dataframe thead th {\n",
       "        text-align: right;\n",
       "    }\n",
       "</style>\n",
       "<table border=\"1\" class=\"dataframe\">\n",
       "  <thead>\n",
       "    <tr style=\"text-align: right;\">\n",
       "      <th></th>\n",
       "      <th>author_id</th>\n",
       "      <th>username</th>\n",
       "      <th>author_followers</th>\n",
       "      <th>author_tweets</th>\n",
       "      <th>author_description</th>\n",
       "      <th>author_location</th>\n",
       "      <th>text</th>\n",
       "      <th>created_at</th>\n",
       "      <th>retweets</th>\n",
       "      <th>replies</th>\n",
       "      <th>likes</th>\n",
       "      <th>quote_count</th>\n",
       "    </tr>\n",
       "  </thead>\n",
       "  <tbody>\n",
       "    <tr>\n",
       "      <th>0</th>\n",
       "      <td>1253265537653596161</td>\n",
       "      <td>DrohShankar</td>\n",
       "      <td>281</td>\n",
       "      <td>9609</td>\n",
       "      <td>journalist and blogger</td>\n",
       "      <td>NaN</td>\n",
       "      <td>RT @elleprovocateur: Aired on CBC, 44 yrs ago....</td>\n",
       "      <td>2021-11-21 23:59:47+00:00</td>\n",
       "      <td>38</td>\n",
       "      <td>0</td>\n",
       "      <td>0</td>\n",
       "      <td>0</td>\n",
       "    </tr>\n",
       "    <tr>\n",
       "      <th>1</th>\n",
       "      <td>294966902</td>\n",
       "      <td>JulieAnnChabot</td>\n",
       "      <td>1534</td>\n",
       "      <td>39809</td>\n",
       "      <td>Inspired~#Writing #Travel #Canada #Music #Lati...</td>\n",
       "      <td>Ontario, Canada</td>\n",
       "      <td>Listen to this caring #Showrunner #SVU @warren...</td>\n",
       "      <td>2021-11-21 23:59:42+00:00</td>\n",
       "      <td>0</td>\n",
       "      <td>0</td>\n",
       "      <td>0</td>\n",
       "      <td>0</td>\n",
       "    </tr>\n",
       "    <tr>\n",
       "      <th>2</th>\n",
       "      <td>1461491129132724224</td>\n",
       "      <td>Fighting4mywife</td>\n",
       "      <td>12</td>\n",
       "      <td>37</td>\n",
       "      <td>I am going to war against Joe Biden to fight f...</td>\n",
       "      <td>NaN</td>\n",
       "      <td>There is no greater combination of #greed and ...</td>\n",
       "      <td>2021-11-21 23:58:43+00:00</td>\n",
       "      <td>0</td>\n",
       "      <td>0</td>\n",
       "      <td>0</td>\n",
       "      <td>0</td>\n",
       "    </tr>\n",
       "    <tr>\n",
       "      <th>3</th>\n",
       "      <td>919780938598494209</td>\n",
       "      <td>tobylovesme1</td>\n",
       "      <td>762</td>\n",
       "      <td>2545</td>\n",
       "      <td>#TrumpLost - Now, Please, let’s restore decenc...</td>\n",
       "      <td>NaN</td>\n",
       "      <td>Sounds great-\\nBut hundreds of thousands have ...</td>\n",
       "      <td>2021-11-21 23:58:03+00:00</td>\n",
       "      <td>0</td>\n",
       "      <td>0</td>\n",
       "      <td>2</td>\n",
       "      <td>0</td>\n",
       "    </tr>\n",
       "    <tr>\n",
       "      <th>4</th>\n",
       "      <td>1233865403937492996</td>\n",
       "      <td>DSG_GHD</td>\n",
       "      <td>290</td>\n",
       "      <td>1985</td>\n",
       "      <td>Vs NWO y su agenda de control y exterminio. ❌#...</td>\n",
       "      <td>Mexico City &amp;</td>\n",
       "      <td>RT @DUlydighed: #demonstration in #copenhagen ...</td>\n",
       "      <td>2021-11-21 23:57:44+00:00</td>\n",
       "      <td>5</td>\n",
       "      <td>0</td>\n",
       "      <td>0</td>\n",
       "      <td>0</td>\n",
       "    </tr>\n",
       "  </tbody>\n",
       "</table>\n",
       "</div>"
      ],
      "text/plain": [
       "             author_id         username author_followers author_tweets  \\\n",
       "0  1253265537653596161      DrohShankar              281          9609   \n",
       "1            294966902   JulieAnnChabot             1534         39809   \n",
       "2  1461491129132724224  Fighting4mywife               12            37   \n",
       "3   919780938598494209     tobylovesme1              762          2545   \n",
       "4  1233865403937492996          DSG_GHD              290          1985   \n",
       "\n",
       "                                  author_description  author_location  \\\n",
       "0                             journalist and blogger              NaN   \n",
       "1  Inspired~#Writing #Travel #Canada #Music #Lati...  Ontario, Canada   \n",
       "2  I am going to war against Joe Biden to fight f...              NaN   \n",
       "3  #TrumpLost - Now, Please, let’s restore decenc...              NaN   \n",
       "4  Vs NWO y su agenda de control y exterminio. ❌#...   Mexico City &    \n",
       "\n",
       "                                                text  \\\n",
       "0  RT @elleprovocateur: Aired on CBC, 44 yrs ago....   \n",
       "1  Listen to this caring #Showrunner #SVU @warren...   \n",
       "2  There is no greater combination of #greed and ...   \n",
       "3  Sounds great-\\nBut hundreds of thousands have ...   \n",
       "4  RT @DUlydighed: #demonstration in #copenhagen ...   \n",
       "\n",
       "                  created_at retweets replies likes quote_count  \n",
       "0  2021-11-21 23:59:47+00:00       38       0     0           0  \n",
       "1  2021-11-21 23:59:42+00:00        0       0     0           0  \n",
       "2  2021-11-21 23:58:43+00:00        0       0     0           0  \n",
       "3  2021-11-21 23:58:03+00:00        0       0     2           0  \n",
       "4  2021-11-21 23:57:44+00:00        5       0     0           0  "
      ]
     },
     "execution_count": 13,
     "metadata": {},
     "output_type": "execute_result"
    }
   ],
   "source": [
    "df.head()"
   ]
  }
 ],
 "metadata": {
  "kernelspec": {
   "display_name": "Python 3 (ipykernel)",
   "language": "python",
   "name": "python3"
  },
  "language_info": {
   "codemirror_mode": {
    "name": "ipython",
    "version": 3
   },
   "file_extension": ".py",
   "mimetype": "text/x-python",
   "name": "python",
   "nbconvert_exporter": "python",
   "pygments_lexer": "ipython3",
   "version": "3.7.11"
  }
 },
 "nbformat": 4,
 "nbformat_minor": 5
}
